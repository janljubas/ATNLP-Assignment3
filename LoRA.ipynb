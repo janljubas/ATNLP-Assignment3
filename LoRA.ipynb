{
  "cells": [
    {
      "cell_type": "markdown",
      "metadata": {
        "id": "NF5bkokbAvqJ"
      },
      "source": [
        "# Setup"
      ]
    },
    {
      "cell_type": "code",
      "execution_count": null,
      "metadata": {
        "id": "--xP909mAvqL"
      },
      "outputs": [],
      "source": [
        "!git clone https://github.com/janljubas/ATNLP-Assignment3.git"
      ]
    },
    {
      "cell_type": "code",
      "execution_count": null,
      "metadata": {
        "id": "yN6Mz_HRAvqM"
      },
      "outputs": [],
      "source": [
        "!pip install transformers\n",
        "!pip install transformers datasets\n",
        "!pip install pytorch-lightning wandb\n",
        "!pip install --upgrade transformers torch\n",
        "!pip install peft\n",
        "!pip install bitsandbytes"
      ]
    },
    {
      "cell_type": "code",
      "execution_count": null,
      "metadata": {
        "id": "b2gK9ZwYAvqN"
      },
      "outputs": [],
      "source": [
        "from peft import LoraConfig, get_peft_model\n",
        "lora_config = LoraConfig(\n",
        "    r=16,  # Rank\n",
        "    lora_alpha=32,\n",
        "    target_modules=[\"q\", \"v\"],  # Target T5 attention layers\n",
        "    lora_dropout=0.05,\n",
        "    bias=\"none\",\n",
        "    task_type=\"CAUSAL_LM\"  # Or \"SEQ_2_SEQ_LM\" depending on your model\n",
        ")"
      ]
    },
    {
      "cell_type": "code",
      "execution_count": null,
      "metadata": {
        "id": "DGKHXAN5AvqN"
      },
      "outputs": [],
      "source": [
        "from transformers import T5ForConditionalGeneration, TrainingArguments, Trainer\n",
        "\n",
        "model_name = \"t5-base\"  # Or \"t5-small\"\n",
        "model = T5ForConditionalGeneration.from_pretrained(model_name)\n",
        "model = get_peft_model(model, lora_config)\n",
        "model.print_trainable_parameters()\n"
      ]
    },
    {
      "cell_type": "markdown",
      "metadata": {
        "id": "0W--vfSoAvqO"
      },
      "source": [
        "# Dataset preparation"
      ]
    },
    {
      "cell_type": "markdown",
      "metadata": {
        "id": "Jvh0DLN4AvqO"
      },
      "source": [
        "#### Tokenizer"
      ]
    },
    {
      "cell_type": "code",
      "execution_count": null,
      "metadata": {
        "id": "uR9TYhkhAvqO"
      },
      "outputs": [],
      "source": [
        "from tokenizers import Tokenizer, models, pre_tokenizers, decoders, trainers\n",
        "\n",
        "# Create a custom tokenizer\n",
        "tokenizer = Tokenizer(models.BPE())  # Byte-Pair Encoding (BPE) model\n",
        "tokenizer.pre_tokenizer = pre_tokenizers.Whitespace()  # Pre-tokenize by whitespace\n",
        "tokenizer.decoder = decoders.BPEDecoder()\n",
        "\n",
        "# Train the tokenizer on your data\n",
        "trainer = trainers.BpeTrainer(vocab_size=5000, special_tokens=[\"<pad>\", \"<unk>\", \"<s>\", \"</s>\"])\n",
        "tokenizer.train(files=[\"/content/ATNLP-Assignment3/data/all_data.txt\"], trainer=trainer)\n",
        "\n",
        "# Save the tokenizer\n",
        "tokenizer.save(\"/content/ATNLP-Assignment3/custom_tokenizer.json\")\n",
        "\n",
        "\n",
        "from transformers import PreTrainedTokenizerFast\n",
        "\n",
        "# tokenizer = T5Tokenizer.from_pretrained(model_name)\n",
        "tokenizer = Tokenizer.from_file(\"/content/ATNLP-Assignment3/custom_tokenizer.json\")\n",
        "\n",
        "# Wrap the custom tokenizer\n",
        "custom_tokenizer = PreTrainedTokenizerFast(\n",
        "    tokenizer_object=tokenizer,\n",
        "    pad_token=\"<pad>\",\n",
        "    unk_token=\"<unk>\",\n",
        "    bos_token=\"<s>\",\n",
        "    eos_token=\"</s>\",\n",
        ")\n",
        "\n"
      ]
    },
    {
      "cell_type": "markdown",
      "metadata": {
        "id": "_q5lRPwzAvqO"
      },
      "source": [
        "#### Regular part"
      ]
    },
    {
      "cell_type": "code",
      "execution_count": null,
      "metadata": {
        "id": "YTAkW4HnAvqP"
      },
      "outputs": [],
      "source": [
        "# STEP 1: LOADING DATA AND CREATING ALL 3 SPLITS\n",
        "\n",
        "\n",
        "# Load the SCAN dataset\n",
        "def load_scan_data(file_path):\n",
        "    inputs, outputs = [], []\n",
        "    with open(file_path, 'r') as f:\n",
        "        for line in f:\n",
        "            if line.startswith(\"IN:\"):\n",
        "                # Split the line into input and output parts\n",
        "                parts = line.strip().split(\" OUT: \")\n",
        "                if len(parts) == 2:\n",
        "                    inputs.append(parts[0].replace(\"IN: \", \"\"))  # Remove \"IN: \"\n",
        "                    outputs.append(parts[1])  # Keep the output as is\n",
        "    return inputs, outputs\n",
        "\n",
        "\n",
        "\n",
        "\n",
        "# 1.1. loading the training data\n",
        "train_inputs, train_outputs = load_scan_data(\"/content/ATNLP-Assignment3/data/Experiment-1/tasks_train_simple.txt\")\n",
        "# print(len(train_inputs), len(train_outputs))\n",
        "\n",
        "# 1.2. creating the Validation set by splitting the train set 90-10\n",
        "from sklearn.model_selection import train_test_split\n",
        "\n",
        "train_inputs, val_inputs, train_outputs, val_outputs = train_test_split(\n",
        "    train_inputs, train_outputs, test_size=0.1, random_state=42\n",
        ")\n",
        "# print(len(train_inputs), len(train_outputs))\n",
        "# print(len(val_inputs), len(val_outputs))\n",
        "\n",
        "# 1.3. loading the test data\n",
        "test_inputs, test_outputs = load_scan_data(\"/content/ATNLP-Assignment3/data/Experiment-1/tasks_test_simple.txt\")\n",
        "# print(len(test_inputs), len(test_outputs))"
      ]
    },
    {
      "cell_type": "code",
      "execution_count": null,
      "metadata": {
        "id": "HWKDMmYRAvqP"
      },
      "outputs": [],
      "source": [
        "# STEP 2: PREPROCESSING THE DATA\n",
        "from datasets import Dataset\n",
        "\n",
        "# tokenize and format the data\n",
        "def preprocess_scan_data(inputs, outputs, tokenizer, max_length=128):\n",
        "    formatted_inputs = [f\"translate English to Action: {input_text}\" for input_text in inputs]\n",
        "    model_inputs = tokenizer(formatted_inputs, max_length=max_length, truncation=True, padding=\"max_length\")\n",
        "    labels = tokenizer(outputs, max_length=max_length, truncation=True, padding=\"max_length\").input_ids\n",
        "    model_inputs[\"labels\"] = labels\n",
        "    return model_inputs\n",
        "\n",
        "# preprocess training, validation, and test data\n",
        "train_data = preprocess_scan_data(train_inputs, train_outputs, custom_tokenizer)\n",
        "val_data = preprocess_scan_data(val_inputs, val_outputs, custom_tokenizer)\n",
        "test_data = preprocess_scan_data(test_inputs, test_outputs, custom_tokenizer)\n",
        "\n",
        "# create Hugging Face Dataset objects\n",
        "train_dataset = Dataset.from_dict(train_data)\n",
        "val_dataset = Dataset.from_dict(val_data)\n",
        "test_dataset = Dataset.from_dict(test_data)"
      ]
    },
    {
      "cell_type": "code",
      "execution_count": null,
      "metadata": {
        "id": "UuE1q84IAvqP",
        "outputId": "5d5f2fa1-f2b2-4c95-814d-7f7e7ad7ac02"
      },
      "outputs": [
        {
          "name": "stderr",
          "output_type": "stream",
          "text": [
            "/usr/local/lib/python3.11/dist-packages/transformers/training_args.py:1575: FutureWarning: `evaluation_strategy` is deprecated and will be removed in version 4.46 of 🤗 Transformers. Use `eval_strategy` instead\n",
            "  warnings.warn(\n",
            "<ipython-input-85-69465114be6f>:16: FutureWarning: `tokenizer` is deprecated and will be removed in version 5.0.0 for `Trainer.__init__`. Use `processing_class` instead.\n",
            "  trainer = Trainer(\n"
          ]
        },
        {
          "data": {
            "text/html": [
              "\n",
              "    <div>\n",
              "      \n",
              "      <progress value='5646' max='5646' style='width:300px; height:20px; vertical-align: middle;'></progress>\n",
              "      [5646/5646 15:11, Epoch 3/3]\n",
              "    </div>\n",
              "    <table border=\"1\" class=\"dataframe\">\n",
              "  <thead>\n",
              " <tr style=\"text-align: left;\">\n",
              "      <th>Epoch</th>\n",
              "      <th>Training Loss</th>\n",
              "      <th>Validation Loss</th>\n",
              "    </tr>\n",
              "  </thead>\n",
              "  <tbody>\n",
              "    <tr>\n",
              "      <td>1</td>\n",
              "      <td>0.043600</td>\n",
              "      <td>0.029667</td>\n",
              "    </tr>\n",
              "    <tr>\n",
              "      <td>2</td>\n",
              "      <td>0.023400</td>\n",
              "      <td>0.013308</td>\n",
              "    </tr>\n",
              "    <tr>\n",
              "      <td>3</td>\n",
              "      <td>0.012200</td>\n",
              "      <td>0.018626</td>\n",
              "    </tr>\n",
              "  </tbody>\n",
              "</table><p>"
            ],
            "text/plain": [
              "<IPython.core.display.HTML object>"
            ]
          },
          "metadata": {},
          "output_type": "display_data"
        },
        {
          "data": {
            "text/html": [
              "\n",
              "    <div>\n",
              "      \n",
              "      <progress value='523' max='523' style='width:300px; height:20px; vertical-align: middle;'></progress>\n",
              "      [523/523 00:20]\n",
              "    </div>\n",
              "    "
            ],
            "text/plain": [
              "<IPython.core.display.HTML object>"
            ]
          },
          "metadata": {},
          "output_type": "display_data"
        },
        {
          "name": "stdout",
          "output_type": "stream",
          "text": [
            "Test Results: {'eval_loss': 0.018611395731568336, 'eval_runtime': 20.9624, 'eval_samples_per_second': 199.5, 'eval_steps_per_second': 24.949, 'epoch': 3.0}\n"
          ]
        }
      ],
      "source": [
        "training_args = TrainingArguments(\n",
        "    output_dir=\"./results\",\n",
        "    evaluation_strategy=\"epoch\",\n",
        "    learning_rate=5e-5,\n",
        "    per_device_train_batch_size=8,\n",
        "    per_device_eval_batch_size=8,\n",
        "    num_train_epochs=3,\n",
        "    weight_decay=0.01,\n",
        "    save_total_limit=2,\n",
        "    save_steps=500,\n",
        "    logging_dir=\"./logs\",\n",
        "    logging_steps=10,\n",
        ")\n",
        "\n",
        "# init the trainer\n",
        "trainer = Trainer(\n",
        "    model=model,\n",
        "    args=training_args,\n",
        "    train_dataset=train_dataset,\n",
        "    eval_dataset=val_dataset,  # Use validation set if available\n",
        "    tokenizer=custom_tokenizer,\n",
        ")\n",
        "\n",
        "trainer.train()\n",
        "\n",
        "# model evaluation using the test set\n",
        "test_results = trainer.evaluate(test_dataset)\n",
        "print(\"Test Results:\", test_results)\n"
      ]
    },
    {
      "cell_type": "code",
      "execution_count": null,
      "metadata": {
        "id": "MsAAOMSvAvqQ",
        "outputId": "8eebe143-4960-4c9d-f151-f6959d322384"
      },
      "outputs": [
        {
          "data": {
            "text/plain": [
              "('/content/drive/MyDrive/ATNLP/fine_tuned_t5_custom_model/10_epochs_custom_tokenizer/tokenizer_config.json',\n",
              " '/content/drive/MyDrive/ATNLP/fine_tuned_t5_custom_model/10_epochs_custom_tokenizer/special_tokens_map.json',\n",
              " '/content/drive/MyDrive/ATNLP/fine_tuned_t5_custom_model/10_epochs_custom_tokenizer/tokenizer.json')"
            ]
          },
          "metadata": {},
          "output_type": "display_data"
        }
      ],
      "source": [
        "# Save the model and tokenizer\n",
        "model.save_pretrained(\"/content/drive/MyDrive/ATNLP/fine_tuned_t5_custom_model/10_epochs_custom_tokenizer\")\n",
        "custom_tokenizer.save_pretrained(\"/content/drive/MyDrive/ATNLP/fine_tuned_t5_custom_model/10_epochs_custom_tokenizer\")"
      ]
    },
    {
      "cell_type": "markdown",
      "metadata": {
        "id": "SGlLogpSAvqR"
      },
      "source": [
        "\n",
        "# Experiments\n",
        "\n"
      ]
    },
    {
      "cell_type": "code",
      "execution_count": null,
      "metadata": {
        "id": "MG-YKmZzAvqR"
      },
      "outputs": [],
      "source": [
        "# Load the fine-tuned model and tokenizer\n",
        "model = T5ForConditionalGeneration.from_pretrained(\"/content/ATNLP-Assignment3/models/t5_base/10_epochs_custom_tokenizer\")\n",
        "# tokenizer = T5Tokenizer.from_pretrained(\"/content/drive/MyDrive/ATNLP/fine_tuned_t5_base_model/10_epochs_custom_tokenizer\")\n",
        "tokenizer = custom_tokenizer\n"
      ]
    },
    {
      "cell_type": "code",
      "execution_count": null,
      "metadata": {
        "id": "dl7__ufpAvqR",
        "outputId": "014a56bd-292e-4fe1-d0fa-eac585bb6d78"
      },
      "outputs": [
        {
          "name": "stdout",
          "output_type": "stream",
          "text": [
            "Input: run thrice and jump left thrice\n",
            "Predicted Output:  I_RUN I_RUN I_RUN I_TURN_LEFT I_JUMP I_TURN_LEFT I_JUMP I_TURN_LEFT I_JUMP\n"
          ]
        }
      ],
      "source": [
        "# Post-processing\n",
        "def add_spaces_to_output(output_text):\n",
        "    \"\"\"\n",
        "    Adds spaces before each occurrence of \"I_\" (except the first one).\n",
        "    \"\"\"\n",
        "    # Split the output text into parts based on \"I_\"\n",
        "    parts = output_text.split(\"I_\")\n",
        "\n",
        "    # Reconstruct the text with spaces before \"I_\" (except the first part)\n",
        "    reconstructed_text = parts[0]  # First part doesn't need a space\n",
        "    for part in parts[1:]:\n",
        "        reconstructed_text += \" I_\" + part\n",
        "\n",
        "    return reconstructed_text\n",
        "\n",
        "# Test the model on a custom input\n",
        "def model_prediction(input_text):\n",
        "    input_ids = custom_tokenizer(f\"translate English to Action: {input_text}\", return_tensors=\"pt\").input_ids\n",
        "    outputs = model.generate(input_ids)\n",
        "    decoded_output = custom_tokenizer.decode(outputs[0], skip_special_tokens=True)\n",
        "    decoded_output_with_spaces = add_spaces_to_output(decoded_output)\n",
        "    return decoded_output_with_spaces\n",
        "\n",
        "# Example test\n",
        "test_input = \"run thrice and jump left thrice\"\n",
        "predicted_output = model_prediction(test_input)\n",
        "print(f\"Input: {test_input}\")\n",
        "print(f\"Predicted Output: {predicted_output}\")\n"
      ]
    },
    {
      "cell_type": "code",
      "execution_count": null,
      "metadata": {
        "id": "-glfYhhhAvqR"
      },
      "outputs": [],
      "source": []
    },
    {
      "cell_type": "code",
      "source": [],
      "metadata": {
        "id": "zmjYL0juAyWy"
      },
      "execution_count": null,
      "outputs": []
    },
    {
      "cell_type": "code",
      "source": [],
      "metadata": {
        "id": "MLUh1yu5AyUN"
      },
      "execution_count": null,
      "outputs": []
    },
    {
      "cell_type": "code",
      "source": [],
      "metadata": {
        "id": "UmnRg7faAyPy"
      },
      "execution_count": null,
      "outputs": []
    },
    {
      "cell_type": "code",
      "source": [],
      "metadata": {
        "id": "kcI4bufpAyMA"
      },
      "execution_count": null,
      "outputs": []
    },
    {
      "cell_type": "code",
      "source": [],
      "metadata": {
        "id": "Get2t88sAyHz"
      },
      "execution_count": null,
      "outputs": []
    },
    {
      "cell_type": "code",
      "source": [],
      "metadata": {
        "id": "6wBGTz5tAyFp"
      },
      "execution_count": null,
      "outputs": []
    },
    {
      "cell_type": "code",
      "source": [],
      "metadata": {
        "id": "YDJLNOGCAyDk"
      },
      "execution_count": null,
      "outputs": []
    },
    {
      "cell_type": "code",
      "source": [],
      "metadata": {
        "id": "T-RJQY8VAx9U"
      },
      "execution_count": null,
      "outputs": []
    },
    {
      "cell_type": "code",
      "source": [
        "import matplotlib.pyplot as plt\n",
        "\n",
        "experiment = [0,1,2,4,8,16,32]\n",
        "token_acc = [58, 61, 68, 73, 78, 81, 85]\n",
        "seq_acc = [0.001  *100, 0.02972*100, 0.1733*100, 0.2487*100, 0.317*100, 0.511*100, 0.6443*100]\n",
        "\n",
        "# Adjusting the bar chart to have equal spacing between bars\n",
        "plt.figure(1)\n",
        "plt.bar(range(len(experiment)), token_acc, width=0.6, color=\"blue\", alpha=0.7)\n",
        "\n",
        "# Setting x-ticks to the experiment values and ensuring equal spacing\n",
        "plt.xticks(range(len(experiment)), experiment)\n",
        "\n",
        "# Adding labels and title\n",
        "plt.xlabel(\"Experiment\", fontsize=12)\n",
        "plt.ylabel(\"Token Accuracy (%)\", fontsize=12)\n",
        "plt.title(\"Token Accuracy Across Experiments\", fontsize=14)\n",
        "\n",
        "# Display the plot\n",
        "plt.show()\n",
        "\n",
        "plt.figure(2)\n",
        "plt.bar(range(len(experiment)), seq_acc, width=0.6, color='blue', alpha=0.7)\n",
        "\n",
        "# Setting x-ticks to the experiment values and ensuring equal spacing\n",
        "plt.xticks(range(len(experiment)), experiment)\n",
        "\n",
        "# Adding labels and title\n",
        "plt.xlabel(\"Experiment\", fontsize=12)\n",
        "plt.ylabel(\"Sequence Accuracy (%)\", fontsize=12)\n",
        "plt.title(\"Sequence Accuracy Across Experiments\", fontsize=14)\n",
        "\n",
        "# Display the plot\n",
        "plt.show()"
      ],
      "metadata": {
        "collapsed": true,
        "id": "1_HMt7C-Ax1I",
        "outputId": "c69e8fb4-38ff-4db0-f101-0c1643b3c5b3",
        "colab": {
          "base_uri": "https://localhost:8080/",
          "height": 937
        }
      },
      "execution_count": 38,
      "outputs": [
        {
          "output_type": "display_data",
          "data": {
            "text/plain": [
              "<Figure size 640x480 with 1 Axes>"
            ],
            "image/png": "[encoded data removed]"
          },
          "metadata": {}
        },
        {
          "output_type": "display_data",
          "data": {
            "text/plain": [
              "<Figure size 640x480 with 1 Axes>"
            ],
            "image/png": "[encoded data removed]"
          },
          "metadata": {}
        }
      ]
    },
    {
      "cell_type": "code",
      "source": [
        "\n",
        "x = [4, 6, 7, 8, 9]\n",
        "y = [0, 0.28, 0.26, 0.36, 0.15]\n",
        "\n",
        "# Further adjusting the bar width to create whitespace between columns\n",
        "plt.figure(figsize=(8, 5))\n",
        "plt.bar(x, y, width=0.8, color='blue')  # Narrower width for more space\n",
        "\n",
        "# Add labels and title\n",
        "plt.title('Token-Level Accuracy by Action Sequence Length', fontsize=14)\n",
        "plt.xlabel('Ground-Truth Action Sequence Length (in words)', fontsize=12)\n",
        "plt.ylabel('Accuracy on New Commands (%)', fontsize=12)\n",
        "\n",
        "# Adjust tick marks\n",
        "plt.xticks(range(4, 10, 1))\n",
        "plt.yticks(np.arange(0, 1.1, 0.1))\n",
        "plt.grid(axis='y', linestyle='--', alpha=0.7)\n",
        "\n",
        "# Show the chart\n",
        "plt.tight_layout()\n",
        "plt.show()"
      ],
      "metadata": {
        "id": "EDfhRUtSabOU",
        "outputId": "3debe161-a0fe-4038-b0b2-d0cbf1871942",
        "colab": {
          "base_uri": "https://localhost:8080/",
          "height": 507
        }
      },
      "execution_count": 52,
      "outputs": [
        {
          "output_type": "display_data",
          "data": {
            "text/plain": [
              "<Figure size 800x500 with 1 Axes>"
            ],
            "image/png": "[encoded data removed]"
          },
          "metadata": {}
        }
      ]
    }
  ],
  "metadata": {
    "language_info": {
      "name": "python"
    },
    "colab": {
      "provenance": []
    },
    "kernelspec": {
      "name": "python3",
      "display_name": "Python 3"
    }
  },
  "nbformat": 4,
  "nbformat_minor": 0
}